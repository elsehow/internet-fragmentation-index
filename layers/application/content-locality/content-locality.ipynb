{
 "cells": [
  {
   "cell_type": "code",
   "execution_count": 15,
   "id": "4c262c77",
   "metadata": {},
   "outputs": [],
   "source": [
    "%matplotlib inline\n",
    "\n",
    "import pandas as pd\n",
    "from os import listdir\n",
    "from os.path import join\n",
    "from itertools import combinations\n",
    "\n",
    "from typing import List"
   ]
  },
  {
   "cell_type": "markdown",
   "id": "c9e6af54",
   "metadata": {},
   "source": [
    "# Compute jaccard similarity between each country's top 1000 most-visited sites and the global top list\n"
   ]
  },
  {
   "cell_type": "code",
   "execution_count": 16,
   "id": "1fbdd71d",
   "metadata": {},
   "outputs": [],
   "source": [
    "readings = listdir('data/data/country')"
   ]
  },
  {
   "cell_type": "code",
   "execution_count": 17,
   "id": "d8e10e1e",
   "metadata": {},
   "outputs": [
    {
     "name": "stdout",
     "output_type": "stream",
     "text": [
      "202108.csv.gz\n"
     ]
    }
   ],
   "source": [
    "ex = readings[0]\n",
    "print(ex)\n",
    "df = pd.read_csv(join('data/data/country', ex))"
   ]
  },
  {
   "cell_type": "code",
   "execution_count": 18,
   "id": "600b7e48",
   "metadata": {},
   "outputs": [],
   "source": [
    "# All of the country readings we have should have a corresponding global reading.\n",
    "assert(\n",
    "    set(listdir('data/data/country')).issubset(listdir('data/data/global'))\n",
    ")"
   ]
  },
  {
   "cell_type": "code",
   "execution_count": 19,
   "id": "c673ec4b",
   "metadata": {},
   "outputs": [],
   "source": [
    "def originset (reading_df, country_code=None, max_rank=None):\n",
    "    my_subset = reading_df.copy()\n",
    "    if country_code:\n",
    "        my_subset = my_subset[my_subset['country_code']==country_code]\n",
    "    if max_rank:\n",
    "        my_subset = my_subset[my_subset['rank'] <= max_rank]\n",
    "    return set(my_subset['origin'].tolist())"
   ]
  },
  {
   "cell_type": "code",
   "execution_count": 20,
   "id": "0ce4136b",
   "metadata": {},
   "outputs": [
    {
     "data": {
      "text/plain": [
       "0.2507817385866166"
      ]
     },
     "execution_count": 20,
     "metadata": {},
     "output_type": "execute_result"
    }
   ],
   "source": [
    "def jaccard_similarity(set1: set, set2: set):\n",
    "    intersection = len(set1.intersection(set2))\n",
    "    union = len(set1.union(set2))\n",
    "    return intersection / union\n",
    "\n",
    "jaccard_similarity(\n",
    "    originset(df, 'us'),\n",
    "    originset(df, 'ca'),\n",
    ")"
   ]
  },
  {
   "cell_type": "code",
   "execution_count": 21,
   "id": "11060197",
   "metadata": {},
   "outputs": [],
   "source": [
    "global_top = pd.read_csv(join('data/data/global', ex))"
   ]
  },
  {
   "cell_type": "code",
   "execution_count": 22,
   "id": "cbdbde03",
   "metadata": {},
   "outputs": [
    {
     "data": {
      "text/plain": [
       "0.12994350282485875"
      ]
     },
     "execution_count": 22,
     "metadata": {},
     "output_type": "execute_result"
    }
   ],
   "source": [
    "jaccard_similarity(\n",
    "    originset(df, 'fj'),\n",
    "    originset(global_top)\n",
    ")"
   ]
  },
  {
   "cell_type": "code",
   "execution_count": 23,
   "id": "ce374ec0",
   "metadata": {},
   "outputs": [],
   "source": [
    "# def average_jaccard_similarity (sets: List[set]):\n",
    "#     similarities = []\n",
    "#     for a, b in combinations(sets, 2):\n",
    "#         similarity = jaccard_similarity(a, b)\n",
    "#         similarities.append(similarity)\n",
    "#     return sum(similarities) / len(similarities)\n",
    "\n",
    "# def metric (reading_df):\n",
    "#     origin_sets = []\n",
    "#     for country_code in reading_df['country_code'].unique():\n",
    "#         origin_sets.append(originset(reading_df, country_code))\n",
    "\n",
    "#     return 1-average_jaccard_similarity(origin_sets)\n",
    "\n",
    "# metric(df)"
   ]
  },
  {
   "cell_type": "code",
   "execution_count": 27,
   "id": "eb7708b4",
   "metadata": {},
   "outputs": [
    {
     "name": "stdout",
     "output_type": "stream",
     "text": [
      "202108 (0/23)\n",
      "202211 (1/23)\n",
      "202301 (2/23)\n",
      "202204 (3/23)\n",
      "202111 (4/23)\n",
      "202212 (5/23)\n",
      "202208 (6/23)\n",
      "202203 (7/23)\n",
      "202201 (8/23)\n",
      "202112 (9/23)\n",
      "202106 (10/23)\n",
      "202104 (11/23)\n",
      "202109 (12/23)\n",
      "202107 (13/23)\n",
      "202210 (14/23)\n",
      "202202 (15/23)\n",
      "202302 (16/23)\n",
      "202209 (17/23)\n",
      "202110 (18/23)\n",
      "202105 (19/23)\n",
      "202207 (20/23)\n",
      "202205 (21/23)\n",
      "202206 (22/23)\n"
     ]
    }
   ],
   "source": [
    "rows = []\n",
    "for i, reading in enumerate(readings):\n",
    "    datestr = reading.split('.')[0]\n",
    "    print(f'{datestr} ({i}/{len(readings)-1})')\n",
    "    country_top = pd.read_csv(join('data/data/country', reading))\n",
    "    global_top = pd.read_csv(join('data/data/global', reading))\n",
    "    country_codes = country_top['country_code'].unique()\n",
    "    metrics = []\n",
    "    for country_code in country_codes:\n",
    "        jsim = jaccard_similarity(\n",
    "            originset(country_top, country_code, max_rank=1000),\n",
    "            originset(global_top, max_rank=1000)\n",
    "        )\n",
    "        jsim = jsim\n",
    "        rows.append(\n",
    "            [datestr, country_code, jsim]\n",
    "        )"
   ]
  },
  {
   "cell_type": "code",
   "execution_count": 30,
   "id": "cbfacf3c",
   "metadata": {},
   "outputs": [
    {
     "data": {
      "text/html": [
       "<div>\n",
       "<style scoped>\n",
       "    .dataframe tbody tr th:only-of-type {\n",
       "        vertical-align: middle;\n",
       "    }\n",
       "\n",
       "    .dataframe tbody tr th {\n",
       "        vertical-align: top;\n",
       "    }\n",
       "\n",
       "    .dataframe thead th {\n",
       "        text-align: right;\n",
       "    }\n",
       "</style>\n",
       "<table border=\"1\" class=\"dataframe\">\n",
       "  <thead>\n",
       "    <tr style=\"text-align: right;\">\n",
       "      <th></th>\n",
       "      <th>country_code</th>\n",
       "      <th>jaccard_similarity</th>\n",
       "    </tr>\n",
       "    <tr>\n",
       "      <th>date</th>\n",
       "      <th></th>\n",
       "      <th></th>\n",
       "    </tr>\n",
       "  </thead>\n",
       "  <tbody>\n",
       "    <tr>\n",
       "      <th>2021-08-01</th>\n",
       "      <td>ad</td>\n",
       "      <td>0.101322</td>\n",
       "    </tr>\n",
       "    <tr>\n",
       "      <th>2021-08-01</th>\n",
       "      <td>ae</td>\n",
       "      <td>0.172333</td>\n",
       "    </tr>\n",
       "    <tr>\n",
       "      <th>2021-08-01</th>\n",
       "      <td>af</td>\n",
       "      <td>0.112966</td>\n",
       "    </tr>\n",
       "    <tr>\n",
       "      <th>2021-08-01</th>\n",
       "      <td>ag</td>\n",
       "      <td>0.114206</td>\n",
       "    </tr>\n",
       "    <tr>\n",
       "      <th>2021-08-01</th>\n",
       "      <td>ai</td>\n",
       "      <td>0.078925</td>\n",
       "    </tr>\n",
       "    <tr>\n",
       "      <th>...</th>\n",
       "      <td>...</td>\n",
       "      <td>...</td>\n",
       "    </tr>\n",
       "    <tr>\n",
       "      <th>2022-06-01</th>\n",
       "      <td>ye</td>\n",
       "      <td>0.070664</td>\n",
       "    </tr>\n",
       "    <tr>\n",
       "      <th>2022-06-01</th>\n",
       "      <td>yt</td>\n",
       "      <td>0.066667</td>\n",
       "    </tr>\n",
       "    <tr>\n",
       "      <th>2022-06-01</th>\n",
       "      <td>za</td>\n",
       "      <td>0.105583</td>\n",
       "    </tr>\n",
       "    <tr>\n",
       "      <th>2022-06-01</th>\n",
       "      <td>zm</td>\n",
       "      <td>0.112966</td>\n",
       "    </tr>\n",
       "    <tr>\n",
       "      <th>2022-06-01</th>\n",
       "      <td>zw</td>\n",
       "      <td>0.107420</td>\n",
       "    </tr>\n",
       "  </tbody>\n",
       "</table>\n",
       "<p>5441 rows × 2 columns</p>\n",
       "</div>"
      ],
      "text/plain": [
       "           country_code  jaccard_similarity\n",
       "date                                       \n",
       "2021-08-01           ad            0.101322\n",
       "2021-08-01           ae            0.172333\n",
       "2021-08-01           af            0.112966\n",
       "2021-08-01           ag            0.114206\n",
       "2021-08-01           ai            0.078925\n",
       "...                 ...                 ...\n",
       "2022-06-01           ye            0.070664\n",
       "2022-06-01           yt            0.066667\n",
       "2022-06-01           za            0.105583\n",
       "2022-06-01           zm            0.112966\n",
       "2022-06-01           zw            0.107420\n",
       "\n",
       "[5441 rows x 2 columns]"
      ]
     },
     "execution_count": 30,
     "metadata": {},
     "output_type": "execute_result"
    }
   ],
   "source": [
    "content_locality = pd.DataFrame(rows)\n",
    "content_locality = content_locality.rename(columns={\n",
    "    0: \"date\", \n",
    "    1: \"country_code\",\n",
    "    2: \"jaccard_similarity\",\n",
    "})\n",
    "content_locality['date'] = pd.to_datetime(content_locality['date'], format='%Y%m')#, errors='coerce').dropna()\n",
    "content_locality = content_locality.set_index('date')\n",
    "content_locality"
   ]
  },
  {
   "cell_type": "markdown",
   "id": "9bf3957c",
   "metadata": {},
   "source": [
    "# Compute content locality fragmentation metric"
   ]
  },
  {
   "cell_type": "code",
   "execution_count": 37,
   "id": "11bfb975",
   "metadata": {},
   "outputs": [],
   "source": [
    "metric = 1 - content_locality.groupby('date').mean()"
   ]
  },
  {
   "cell_type": "code",
   "execution_count": 38,
   "id": "aca1a714",
   "metadata": {},
   "outputs": [],
   "source": [
    "metric.to_csv('content-locality.csv')"
   ]
  },
  {
   "cell_type": "code",
   "execution_count": 41,
   "id": "fea3e122",
   "metadata": {},
   "outputs": [
    {
     "data": {
      "text/plain": [
       "<AxesSubplot:xlabel='date', ylabel='Content locality'>"
      ]
     },
     "execution_count": 41,
     "metadata": {},
     "output_type": "execute_result"
    },
    {
     "data": {
      "image/png": "[encoded data removed]",
      "text/plain": [
       "<Figure size 640x480 with 1 Axes>"
      ]
     },
     "metadata": {},
     "output_type": "display_data"
    }
   ],
   "source": [
    "metric.plot(\n",
    "    ylim=(0,1),\n",
    "    ylabel=\"Content locality\",\n",
    ")"
   ]
  }
 ],
 "metadata": {
  "kernelspec": {
   "display_name": "Python 3 (ipykernel)",
   "language": "python",
   "name": "python3"
  },
  "language_info": {
   "codemirror_mode": {
    "name": "ipython",
    "version": 3
   },
   "file_extension": ".py",
   "mimetype": "text/x-python",
   "name": "python",
   "nbconvert_exporter": "python",
   "pygments_lexer": "ipython3",
   "version": "3.10.9"
  }
 },
 "nbformat": 4,
 "nbformat_minor": 5
}
