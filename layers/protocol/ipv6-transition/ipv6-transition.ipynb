{
 "cells": [
  {
   "cell_type": "code",
   "execution_count": 1,
   "id": "131d915b",
   "metadata": {},
   "outputs": [],
   "source": [
    "import pandas as pd\n",
    "import math\n",
    "import io"
   ]
  },
  {
   "cell_type": "code",
   "execution_count": 25,
   "id": "5b42be51",
   "metadata": {},
   "outputs": [
    {
     "data": {
      "text/html": [
       "<div>\n",
       "<style scoped>\n",
       "    .dataframe tbody tr th:only-of-type {\n",
       "        vertical-align: middle;\n",
       "    }\n",
       "\n",
       "    .dataframe tbody tr th {\n",
       "        vertical-align: top;\n",
       "    }\n",
       "\n",
       "    .dataframe thead th {\n",
       "        text-align: right;\n",
       "    }\n",
       "</style>\n",
       "<table border=\"1\" class=\"dataframe\">\n",
       "  <thead>\n",
       "    <tr style=\"text-align: right;\">\n",
       "      <th></th>\n",
       "      <th>total</th>\n",
       "      <th>native</th>\n",
       "    </tr>\n",
       "    <tr>\n",
       "      <th>date</th>\n",
       "      <th></th>\n",
       "      <th></th>\n",
       "    </tr>\n",
       "  </thead>\n",
       "  <tbody>\n",
       "    <tr>\n",
       "      <th>2008-09-30</th>\n",
       "      <td>0.143716</td>\n",
       "      <td>0.048836</td>\n",
       "    </tr>\n",
       "    <tr>\n",
       "      <th>2008-10-31</th>\n",
       "      <td>0.145862</td>\n",
       "      <td>0.053911</td>\n",
       "    </tr>\n",
       "    <tr>\n",
       "      <th>2008-11-30</th>\n",
       "      <td>0.148988</td>\n",
       "      <td>0.060445</td>\n",
       "    </tr>\n",
       "    <tr>\n",
       "      <th>2008-12-31</th>\n",
       "      <td>0.183200</td>\n",
       "      <td>0.067515</td>\n",
       "    </tr>\n",
       "    <tr>\n",
       "      <th>2009-01-31</th>\n",
       "      <td>0.181688</td>\n",
       "      <td>0.063300</td>\n",
       "    </tr>\n",
       "    <tr>\n",
       "      <th>...</th>\n",
       "      <td>...</td>\n",
       "      <td>...</td>\n",
       "    </tr>\n",
       "    <tr>\n",
       "      <th>2022-12-31</th>\n",
       "      <td>39.786829</td>\n",
       "      <td>39.786829</td>\n",
       "    </tr>\n",
       "    <tr>\n",
       "      <th>2023-01-31</th>\n",
       "      <td>39.409407</td>\n",
       "      <td>39.409407</td>\n",
       "    </tr>\n",
       "    <tr>\n",
       "      <th>2023-02-28</th>\n",
       "      <td>38.630472</td>\n",
       "      <td>38.630472</td>\n",
       "    </tr>\n",
       "    <tr>\n",
       "      <th>2023-03-31</th>\n",
       "      <td>39.233114</td>\n",
       "      <td>39.233114</td>\n",
       "    </tr>\n",
       "    <tr>\n",
       "      <th>2023-04-30</th>\n",
       "      <td>40.383138</td>\n",
       "      <td>40.383138</td>\n",
       "    </tr>\n",
       "  </tbody>\n",
       "</table>\n",
       "<p>176 rows × 2 columns</p>\n",
       "</div>"
      ],
      "text/plain": [
       "                total     native\n",
       "date                            \n",
       "2008-09-30   0.143716   0.048836\n",
       "2008-10-31   0.145862   0.053911\n",
       "2008-11-30   0.148988   0.060445\n",
       "2008-12-31   0.183200   0.067515\n",
       "2009-01-31   0.181688   0.063300\n",
       "...               ...        ...\n",
       "2022-12-31  39.786829  39.786829\n",
       "2023-01-31  39.409407  39.409407\n",
       "2023-02-28  38.630472  38.630472\n",
       "2023-03-31  39.233114  39.233114\n",
       "2023-04-30  40.383138  40.383138\n",
       "\n",
       "[176 rows x 2 columns]"
      ]
     },
     "execution_count": 25,
     "metadata": {},
     "output_type": "execute_result"
    }
   ],
   "source": [
    "df = pd.read_csv(\n",
    "    'data/data.csv',\n",
    "    header=None,\n",
    "    names=[\n",
    "      'month',\n",
    "      'day',\n",
    "      'total',\n",
    "      'native'\n",
    "    ]\n",
    "    ).reset_index().rename(columns={'index': 'year'})\n",
    "\n",
    "# Adjust the 'month' column to be 1-indexed instead of 0-indexed\n",
    "df['month'] = df['month'] + 1\n",
    "\n",
    "# Create a new 'date' column using the 'index', 'month', and 'day' columns\n",
    "df['date'] = pd.to_datetime(df[['year', 'month', 'day']])\n",
    "\n",
    "# Drop the original 'index', 'month', and 'day' columns\n",
    "df = df.drop(['year', 'month', 'day'], axis=1)\n",
    "\n",
    "# Optionally, set the 'date' column as the index\n",
    "df.set_index('date', inplace=True)\n",
    "\n",
    "# Get each month's median reading\n",
    "df = df.resample('M').median()\n",
    "\n",
    "df"
   ]
  },
  {
   "cell_type": "code",
   "execution_count": 26,
   "id": "0a5ade97",
   "metadata": {},
   "outputs": [],
   "source": [
    "assert(all(df['total'] >= df['native']))"
   ]
  },
  {
   "cell_type": "code",
   "execution_count": 28,
   "id": "baef7a3f",
   "metadata": {},
   "outputs": [
    {
     "data": {
      "text/plain": [
       "<AxesSubplot:xlabel='date', ylabel='Fragmentation (0-1)'>"
      ]
     },
     "execution_count": 28,
     "metadata": {},
     "output_type": "execute_result"
    },
    {
     "data": {
      "image/png": "[encoded data removed]",
      "text/plain": [
       "<Figure size 640x480 with 1 Axes>"
      ]
     },
     "metadata": {},
     "output_type": "display_data"
    }
   ],
   "source": [
    "def fragmentation(score):\n",
    "  '''\n",
    "  Fragmentation is at its lowest when everyone uses either one protocol or the other.\n",
    "\n",
    "  As IPv6 adoption ramps up, fragmentation will increase. After 50% of people use it, if adoption continues, fragmentation will begin to decrease agin.\n",
    "  '''\n",
    "  if score <= 50:\n",
    "    return (score / 50)**2\n",
    "  return 1 - ((score - 50) / 50)**2\n",
    "\n",
    "assert(abs(fragmentation(0) - 0) < 1e-9)\n",
    "assert(abs(fragmentation(100) - 0) < 1e-9)\n",
    "assert(abs(fragmentation(50) - 1) < 1e-9)\n",
    "\n",
    "df['fragmentation'] = df['total'].apply(fragmentation)\n",
    "\n",
    "df['fragmentation'].plot(ylabel=\"Fragmentation (0-1)\", ylim=(0,1))"
   ]
  },
  {
   "cell_type": "code",
   "execution_count": null,
   "id": "eb12a845",
   "metadata": {},
   "outputs": [],
   "source": []
  }
 ],
 "metadata": {
  "kernelspec": {
   "display_name": "Python 3 (ipykernel)",
   "language": "python",
   "name": "python3"
  },
  "language_info": {
   "codemirror_mode": {
    "name": "ipython",
    "version": 3
   },
   "file_extension": ".py",
   "mimetype": "text/x-python",
   "name": "python",
   "nbconvert_exporter": "python",
   "pygments_lexer": "ipython3",
   "version": "3.10.9"
  }
 },
 "nbformat": 4,
 "nbformat_minor": 5
}
